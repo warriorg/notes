{
 "cells": [
  {
   "cell_type": "markdown",
   "metadata": {},
   "source": [
    "使用在线，调用OpenAI"
   ]
  },
  {
   "cell_type": "code",
   "execution_count": null,
   "metadata": {},
   "outputs": [
    {
     "ename": "",
     "evalue": "",
     "output_type": "error",
     "traceback": [
      "\u001b[1;31mRunning cells with 'Python 3.13.0' requires the ipykernel package.\n",
      "\u001b[1;31mRun the following command to install 'ipykernel' into the Python environment. \n",
      "\u001b[1;31mCommand: '/opt/homebrew/bin/python3 -m pip install ipykernel -U --user --force-reinstall'"
     ]
    }
   ],
   "source": [
    "from langchain_openai import ChatOpenAI\n",
    "\n",
    "OPENAI_API_KEY = ''\n",
    "\n",
    "llm = ChatOpenAI(openai_api_key = OPENAI_API_KEY)\n",
    "llm.invoke(\"how can langsmith help with testing?\")\n"
   ]
  },
  {
   "cell_type": "markdown",
   "metadata": {},
   "source": [
    "# 使用本地\n",
    "\n",
    "安装 ollama, 然后运行\n",
    "ollama run llama2-chinese"
   ]
  },
  {
   "cell_type": "code",
   "execution_count": null,
   "metadata": {},
   "outputs": [],
   "source": [
    "# simple\n",
    "from langchain_community.llms import Ollama\n",
    "llm = Ollama(model=\"llama2-chinese\")\n",
    "llm.invoke(\"海关注册编码\")"
   ]
  },
  {
   "cell_type": "markdown",
   "metadata": {},
   "source": [
    "复杂示例"
   ]
  },
  {
   "cell_type": "code",
   "execution_count": null,
   "metadata": {},
   "outputs": [],
   "source": [
    "\n",
    "from langchain_community.embeddings import OllamaEmbeddings\n",
    "from langchain_community.document_loaders import UnstructuredMarkdownLoader, TextLoader, UnstructuredExcelLoader\n",
    "from langchain.text_splitter import RecursiveCharacterTextSplitter\n",
    "from langchain_core.prompts import ChatPromptTemplate\n",
    "from langchain.chains.combine_documents import create_stuff_documents_chain\n",
    "from langchain_community.vectorstores import FAISS\n",
    "from langchain_core.documents import Document\n",
    "from langchain.chains import create_retrieval_chain\n",
    "from langchain_community.llms import Ollama\n",
    "\n",
    "\n",
    "loader = UnstructuredMarkdownLoader(\"/Users/warriorg/Workspace/Notes/doc/customs/关务.md\")\n",
    "data = loader.load()\n",
    "\n",
    "loader = TextLoader(\"/Users/warriorg/Downloads/xxxx.txt\")\n",
    "data2 = loader.load()\n",
    "\n",
    "# loader = UnstructuredExcelLoader(\"/Users/warriorg/Downloads/2024研发中心前后端工作.xlsx\")\n",
    "# data3 = loader.load()\n",
    "\n",
    "text_splitter = RecursiveCharacterTextSplitter()\n",
    "documents = text_splitter.split_documents([data[0], data2[0]])\n",
    "\n",
    "embeddings = OllamaEmbeddings(model=\"llama2-chinese\")\n",
    "vector = FAISS.from_documents(documents, embeddings)\n",
    "prompt = ChatPromptTemplate.from_template(\"\"\"Answer the following question based only on the provided context:\n",
    "<context>\n",
    "{context}\n",
    "</context>\n",
    "Question: {input}\"\"\")\n",
    "\n",
    "llm = Ollama(model=\"llama2-chinese\")\n",
    "document_chain = create_stuff_documents_chain(llm, prompt)\n",
    "\n",
    "# document_chain.invoke({\n",
    "#     \"input\": \"叶群\",\n",
    "#     \"context\": [Document(page_content=\"朗新一诺顶级开发工程师，代表了苏州软件行业的最高水准\")]\n",
    "# })\n",
    "\n",
    "retriever = vector.as_retriever()\n",
    "retrieval_chain = create_retrieval_chain(retriever, document_chain)\n",
    "\n",
    "# response = retrieval_chain.invoke({\"input\": \"企业海关注册编码\"})\n",
    "# print(response[\"answer\"])\n",
    "\n",
    "# response = retrieval_chain.invoke({\"input\": \"什么是内销\"})\n",
    "# print(response[\"answer\"])\n",
    "\n",
    "response = retrieval_chain.invoke({\"input\": \"以叶群为主人公写一篇爽文\"})\n",
    "print(response[\"answer\"])"
   ]
  },
  {
   "cell_type": "markdown",
   "metadata": {},
   "source": [
    "切分文档到向量数据库"
   ]
  },
  {
   "cell_type": "code",
   "execution_count": null,
   "metadata": {},
   "outputs": [],
   "source": [
    "from langchain.text_splitter import CharacterTextSplitter\n",
    "from langchain_community.document_loaders import TextLoader, UnstructuredMarkdownLoader\n",
    "from langchain_community.embeddings.sentence_transformer import (\n",
    "    SentenceTransformerEmbeddings,\n",
    ")\n",
    "from langchain_community.vectorstores import Chroma\n",
    "\n",
    "loader = UnstructuredMarkdownLoader(\"/Users/warriorg/Workspace/Notes/doc/customs/关务.md\")\n",
    "data = loader.load()\n",
    "\n",
    "# load the document and split it into chunks\n",
    "loader = TextLoader(\"/Users/warriorg/Downloads/xxxx.txt\")\n",
    "data2 = loader.load()\n",
    "\n",
    "# split it into chunks\n",
    "text_splitter = CharacterTextSplitter(chunk_size=1000, chunk_overlap=0)\n",
    "docs = text_splitter.split_documents([data[0], data2[0]])\n",
    "\n",
    "# create the open-source embedding function\n",
    "embedding_function = SentenceTransformerEmbeddings(model_name=\"all-MiniLM-L6-v2\")\n",
    "\n",
    "# load it into Chroma\n",
    "db = Chroma.from_documents(docs, embedding_function, persist_directory=\"/Users/warriorg/Downloads/chroma\")\n",
    "db.persist\n",
    "\n",
    "# query it\n",
    "query = \"叶群\"\n",
    "docs = db.similarity_search(query)\n",
    "\n",
    "# print results\n",
    "print(docs[0])"
   ]
  },
  {
   "cell_type": "code",
   "execution_count": null,
   "metadata": {},
   "outputs": [],
   "source": [
    "from langchain.embeddings import OllamaEmbeddings\n",
    "from langchain.vectorstores import Chroma\n",
    "from langchain.chains import RetrievalQA\n",
    "from langchain_community.embeddings.sentence_transformer import (\n",
    "    SentenceTransformerEmbeddings,\n",
    ")\n",
    "\n",
    "\n",
    "embedding_function = SentenceTransformerEmbeddings(model_name=\"all-MiniLM-L6-v2\")\n",
    "vectorstore = Chroma(embedding_function=embedding_function, persist_directory=\"/Users/warriorg/Downloads/chroma\")\n",
    "\n",
    "llm = Ollama(model=\"llama2-chinese\")\n",
    "qa_chain=RetrievalQA.from_chain_type(llm, retriever=vectorstore.as_retriever(), chain_type=\"stuff\")\n",
    "response = qa_chain({\"query\": \"叶群\"})\n",
    "print(response)"
   ]
  }
 ],
 "metadata": {
  "kernelspec": {
   "display_name": "Python 3",
   "language": "python",
   "name": "python3"
  },
  "language_info": {
   "codemirror_mode": {
    "name": "ipython",
    "version": 3
   },
   "file_extension": ".py",
   "mimetype": "text/x-python",
   "name": "python",
   "nbconvert_exporter": "python",
   "pygments_lexer": "ipython3",
   "version": "3.13.0"
  }
 },
 "nbformat": 4,
 "nbformat_minor": 2
}
